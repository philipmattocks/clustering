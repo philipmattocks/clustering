{
 "cells": [
  {
   "cell_type": "markdown",
   "metadata": {},
   "source": [
    "## Worked Example of K-Means Clustering ##\n",
    "Taken from \"Python Data Science Handbook\" (O'Reilly')\n",
    "\n",
    "### Data Load and Prep ###"
   ]
  },
  {
   "cell_type": "code",
   "execution_count": 1,
   "metadata": {},
   "outputs": [],
   "source": [
    "# imports and data-load\n",
    "#import sklearn\n",
    "\n",
    "import numpy as np\n",
    "\n",
    "from sklearn.cluster import KMeans\n",
    "from sklearn.datasets import load_digits\n",
    "\n",
    "#import matplotlib\n",
    "import matplotlib.pyplot as plt\n",
    "\n",
    "digits = load_digits()"
   ]
  },
  {
   "cell_type": "code",
   "execution_count": 2,
   "metadata": {},
   "outputs": [
    {
     "name": "stdout",
     "output_type": "stream",
     "text": [
      "<class 'sklearn.utils.Bunch'>\n",
      "<class 'numpy.ndarray'>\n"
     ]
    }
   ],
   "source": [
    "print(type(digits))\n",
    "print(type(digits.data))"
   ]
  },
  {
   "cell_type": "markdown",
   "metadata": {},
   "source": [
    "+ `sklearn.utils.bunch` : \"The Bunch object in Scikit-Learn is simply a dictionary that exposes dictionary keys as properties so that you can access them with dot notation\" : https://bbengfort.github.io/programmer/2016/04/19/bunch-data-management.html  \n",
    "+ `numpy.ndarray` : Numpy data array : https://docs.scipy.org/doc/numpy-1.14.0/reference/generated/numpy.ndarray.html  \n"
   ]
  },
  {
   "cell_type": "code",
   "execution_count": 3,
   "metadata": {},
   "outputs": [
    {
     "name": "stdout",
     "output_type": "stream",
     "text": [
      "dict_keys(['data', 'target', 'target_names', 'images', 'DESCR'])\n"
     ]
    }
   ],
   "source": [
    "print(digits.keys())"
   ]
  },
  {
   "cell_type": "code",
   "execution_count": 4,
   "metadata": {},
   "outputs": [
    {
     "name": "stdout",
     "output_type": "stream",
     "text": [
      "(1797, 64)\n"
     ]
    },
    {
     "data": {
      "text/plain": [
       "array([[ 0.,  0.,  5., 13.,  9.,  1.,  0.,  0.,  0.,  0., 13., 15., 10.,\n",
       "        15.,  5.,  0.,  0.,  3., 15.,  2.,  0., 11.,  8.,  0.,  0.,  4.,\n",
       "        12.,  0.,  0.,  8.,  8.,  0.,  0.,  5.,  8.,  0.,  0.,  9.,  8.,\n",
       "         0.,  0.,  4., 11.,  0.,  1., 12.,  7.,  0.,  0.,  2., 14.,  5.,\n",
       "        10., 12.,  0.,  0.,  0.,  0.,  6., 13., 10.,  0.,  0.,  0.],\n",
       "       [ 0.,  0.,  0., 12., 13.,  5.,  0.,  0.,  0.,  0.,  0., 11., 16.,\n",
       "         9.,  0.,  0.,  0.,  0.,  3., 15., 16.,  6.,  0.,  0.,  0.,  7.,\n",
       "        15., 16., 16.,  2.,  0.,  0.,  0.,  0.,  1., 16., 16.,  3.,  0.,\n",
       "         0.,  0.,  0.,  1., 16., 16.,  6.,  0.,  0.,  0.,  0.,  1., 16.,\n",
       "        16.,  6.,  0.,  0.,  0.,  0.,  0., 11., 16., 10.,  0.,  0.]])"
      ]
     },
     "execution_count": 4,
     "metadata": {},
     "output_type": "execute_result"
    }
   ],
   "source": [
    "print(digits.data.shape)\n",
    "digits.data[0:2]"
   ]
  },
  {
   "cell_type": "markdown",
   "metadata": {},
   "source": [
    "#### Visualise a random sample from the data ####"
   ]
  },
  {
   "cell_type": "code",
   "execution_count": 8,
   "metadata": {},
   "outputs": [
    {
     "name": "stdout",
     "output_type": "stream",
     "text": [
      "<class 'numpy.ndarray'>\n",
      "(64,)\n",
      "(8, 8)\n"
     ]
    },
    {
     "data": {
      "text/plain": [
       "<matplotlib.image.AxesImage at 0x1d360fd50b8>"
      ]
     },
     "execution_count": 8,
     "metadata": {},
     "output_type": "execute_result"
    },
    {
     "data": {
      "image/png": "[encoded data removed]",
      "text/plain": [
       "<matplotlib.figure.Figure at 0x1d36115fb70>"
      ]
     },
     "metadata": {},
     "output_type": "display_data"
    }
   ],
   "source": [
    "img = digits.data[121]\n",
    "print(type(img))\n",
    "print(img.shape)\n",
    "img = img.reshape((8,8))\n",
    "print(img.shape)\n",
    "plt.imshow(img, interpolation = 'nearest', cmap=plt.cm.binary)"
   ]
  },
  {
   "cell_type": "code",
   "execution_count": 9,
   "metadata": {},
   "outputs": [
    {
     "data": {
      "text/plain": [
       "4"
      ]
     },
     "execution_count": 9,
     "metadata": {},
     "output_type": "execute_result"
    }
   ],
   "source": [
    "digits.target[121]"
   ]
  },
  {
   "cell_type": "markdown",
   "metadata": {},
   "source": [
    "## Create a K-Means Cluster ##\n",
    "Pre-emptively guess the number of clusters we want (10).\n",
    "\n",
    "We can do this because we know  a lot about the data-set and can make some assumptions."
   ]
  },
  {
   "cell_type": "code",
   "execution_count": 11,
   "metadata": {},
   "outputs": [
    {
     "data": {
      "text/plain": [
       "(10, 64)"
      ]
     },
     "execution_count": 11,
     "metadata": {},
     "output_type": "execute_result"
    }
   ],
   "source": [
    "kmeans = KMeans(n_clusters=10, random_state=0)\n",
    "clusters = kmeans.fit_predict(digits.data)\n",
    "\n",
    "kmeans.cluster_centers_.shape"
   ]
  },
  {
   "cell_type": "markdown",
   "metadata": {},
   "source": [
    "10 clusters and * each cluster is a 64 dimensional point *."
   ]
  },
  {
   "cell_type": "markdown",
   "metadata": {},
   "source": [
    "#### Visualise the clustering results ####\n",
    "Use `matplotlib.pyplot` to plot the 10 centroids using the 64 dimensions to represent image pixels"
   ]
  },
  {
   "cell_type": "code",
   "execution_count": 12,
   "metadata": {},
   "outputs": [
    {
     "data": {
      "image/png": "[encoded data removed]",
      "text/plain": [
       "<matplotlib.figure.Figure at 0x1d360f9a4e0>"
      ]
     },
     "metadata": {},
     "output_type": "display_data"
    }
   ],
   "source": [
    "fig, ax = plt.subplots(2,5, figsize=(8,3))\n",
    "#NOTE - kept the American spelling for center\n",
    "centers = kmeans.cluster_centers_.reshape(10,8,8)  # take our ten clusters and make each one into an 8x8 array#\n",
    "# for each 8x8 array in \"centers\", do a plot in our 2 x 5 plt array\n",
    "for axi, center in zip(ax.flat, centers):\n",
    "    axi.set(xticks=[], yticks=[])\n",
    "    axi.imshow(center, interpolation = 'nearest', cmap=plt.cm.binary)\n"
   ]
  },
  {
   "cell_type": "code",
   "execution_count": 13,
   "metadata": {},
   "outputs": [],
   "source": [
    "#centers[0]"
   ]
  },
  {
   "cell_type": "markdown",
   "metadata": {},
   "source": [
    "## Checking the Accuracy ##\n",
    "\n",
    "#### Match each learned cluster with the true labels ####"
   ]
  },
  {
   "cell_type": "code",
   "execution_count": 14,
   "metadata": {},
   "outputs": [
    {
     "name": "stdout",
     "output_type": "stream",
     "text": [
      "(1797,)\n",
      "[0 1 2 3 4 5 6 7 8 9 0 1 2 3 4 5 6 7 8 9 0]\n"
     ]
    }
   ],
   "source": [
    "#Our dataset helpfully has the actual digits stored in digits.target\n",
    "print(digits.target.shape)\n",
    "print(digits.target[0:21])"
   ]
  },
  {
   "cell_type": "code",
   "execution_count": 15,
   "metadata": {},
   "outputs": [],
   "source": [
    "from scipy.stats import mode  # \"Return an array of the modal (most common) value in the passed array\"\n",
    "\n",
    "labels = np.zeros_like(clusters)  #just an array of zeros\n",
    "for i in range(10):\n",
    "    mask = (clusters == i )  # find all the cluster items labeled \"i\" - Boolean array\n",
    "    \n",
    "    #set all the labels matching the Boolean Array index to the most popular digit label in this cluster \n",
    "    labels[mask] = mode(digits.target[mask])[0] "
   ]
  },
  {
   "cell_type": "code",
   "execution_count": 16,
   "metadata": {},
   "outputs": [
    {
     "data": {
      "text/plain": [
       "array([False, False, False, ..., False, False, False])"
      ]
     },
     "execution_count": 16,
     "metadata": {},
     "output_type": "execute_result"
    }
   ],
   "source": [
    "mask"
   ]
  },
  {
   "cell_type": "code",
   "execution_count": null,
   "metadata": {},
   "outputs": [],
   "source": [
    "##mode(digits.target[mask])[0]"
   ]
  },
  {
   "cell_type": "code",
   "execution_count": null,
   "metadata": {},
   "outputs": [],
   "source": [
    "#### Compare the original **Target** labels with the **Estimate** labels ####"
   ]
  },
  {
   "cell_type": "code",
   "execution_count": 17,
   "metadata": {},
   "outputs": [
    {
     "data": {
      "text/plain": [
       "0.7935447968836951"
      ]
     },
     "execution_count": 17,
     "metadata": {},
     "output_type": "execute_result"
    }
   ],
   "source": [
    "from sklearn.metrics import accuracy_score\n",
    "accuracy_score(digits.target, labels)"
   ]
  },
  {
   "cell_type": "markdown",
   "metadata": {},
   "source": [
    "79% accuracy is not bad..."
   ]
  },
  {
   "cell_type": "markdown",
   "metadata": {},
   "source": [
    "#### Display classification accuracy with a Confusion Matrix ####"
   ]
  },
  {
   "cell_type": "code",
   "execution_count": 18,
   "metadata": {},
   "outputs": [
    {
     "data": {
      "text/plain": [
       "[Text(92.68,0.5,'Predicted Label')]"
      ]
     },
     "execution_count": 18,
     "metadata": {},
     "output_type": "execute_result"
    },
    {
     "data": {
      "image/png": "[encoded data removed]",
      "text/plain": [
       "<matplotlib.figure.Figure at 0x1d362da2b38>"
      ]
     },
     "metadata": {},
     "output_type": "display_data"
    }
   ],
   "source": [
    "from sklearn.metrics import confusion_matrix\n",
    "import seaborn as sns; sns.set()\n",
    "m = confusion_matrix(digits.target, labels)\n",
    "ax = sns.heatmap(m.T, square=True, annot=True, fmt='d', cmap=\"YlGnBu\", cbar=False\n",
    "            , xticklabels=digits.target_names\n",
    "            , yticklabels=digits.target_names)\n",
    "\n",
    "ax.set(xlabel='True Label')\n",
    "ax.set(ylabel='Predicted Label')"
   ]
  },
  {
   "cell_type": "code",
   "execution_count": 19,
   "metadata": {},
   "outputs": [
    {
     "data": {
      "text/plain": [
       "array([[177,   0,   0,   0,   1,   0,   0,   0,   0,   0],\n",
       "       [  0,  55,  24,   1,   0,   1,   2,   0,  99,   0],\n",
       "       [  1,   2, 148,  13,   0,   0,   0,   3,   8,   2],\n",
       "       [  0,   0,   0, 154,   0,   2,   0,   7,   7,  13],\n",
       "       [  0,   7,   0,   0, 163,   0,   0,   7,   4,   0],\n",
       "       [  0,   0,   0,   0,   2, 136,   1,   0,   0,  43],\n",
       "       [  1,   1,   0,   0,   0,   0, 177,   0,   2,   0],\n",
       "       [  0,   0,   0,   0,   0,   0,   0, 177,   2,   0],\n",
       "       [  0,   5,   3,   2,   0,   4,   2,   5, 100,  53],\n",
       "       [  0,  20,   0,   6,   0,   6,   0,   7,   2, 139]], dtype=int64)"
      ]
     },
     "execution_count": 19,
     "metadata": {},
     "output_type": "execute_result"
    }
   ],
   "source": [
    "m"
   ]
  },
  {
   "cell_type": "code",
   "execution_count": 20,
   "metadata": {},
   "outputs": [
    {
     "data": {
      "text/plain": [
       "array([[99,  0,  0,  0,  1,  0,  0,  0,  0,  0],\n",
       "       [ 0, 30, 13,  1,  0,  1,  1,  0, 54,  0],\n",
       "       [ 1,  1, 84,  7,  0,  0,  0,  2,  5,  1],\n",
       "       [ 0,  0,  0, 84,  0,  1,  0,  4,  4,  7],\n",
       "       [ 0,  4,  0,  0, 90,  0,  0,  4,  2,  0],\n",
       "       [ 0,  0,  0,  0,  1, 75,  1,  0,  0, 24],\n",
       "       [ 1,  1,  0,  0,  0,  0, 98,  0,  1,  0],\n",
       "       [ 0,  0,  0,  0,  0,  0,  0, 99,  1,  0],\n",
       "       [ 0,  3,  2,  1,  0,  2,  1,  3, 56, 30],\n",
       "       [ 0, 11,  0,  3,  0,  3,  0,  4,  1, 77]])"
      ]
     },
     "execution_count": 20,
     "metadata": {},
     "output_type": "execute_result"
    }
   ],
   "source": [
    "mperc = np.true_divide(m, m.sum(axis=1, keepdims=True))\n",
    "mperc = np.round(mperc,2) * 100\n",
    "mperc.astype(int)"
   ]
  },
  {
   "cell_type": "code",
   "execution_count": 21,
   "metadata": {},
   "outputs": [
    {
     "data": {
      "text/plain": [
       "array([[99.,  0.,  0.,  0.,  1.,  0.,  0.,  0.,  0.,  0.],\n",
       "       [ 0., 30., 13.,  1.,  0.,  1.,  1.,  0., 54.,  0.],\n",
       "       [ 1.,  1., 84.,  7.,  0.,  0.,  0.,  2.,  5.,  1.],\n",
       "       [ 0.,  0.,  0., 84.,  0.,  1.,  0.,  4.,  4.,  7.],\n",
       "       [ 0.,  4.,  0.,  0., 90.,  0.,  0.,  4.,  2.,  0.],\n",
       "       [ 0.,  0.,  0.,  0.,  1., 75.,  1.,  0.,  0., 24.],\n",
       "       [ 1.,  1.,  0.,  0.,  0.,  0., 98.,  0.,  1.,  0.],\n",
       "       [ 0.,  0.,  0.,  0.,  0.,  0.,  0., 99.,  1.,  0.],\n",
       "       [ 0.,  3.,  2.,  1.,  0.,  2.,  1.,  3., 57., 30.],\n",
       "       [ 0., 11.,  0.,  3.,  0.,  3.,  0.,  4.,  1., 77.]])"
      ]
     },
     "execution_count": 21,
     "metadata": {},
     "output_type": "execute_result"
    }
   ],
   "source": [
    "mperc"
   ]
  },
  {
   "cell_type": "code",
   "execution_count": 22,
   "metadata": {},
   "outputs": [
    {
     "data": {
      "text/plain": [
       "[Text(92.68,0.5,'Predicted Label')]"
      ]
     },
     "execution_count": 22,
     "metadata": {},
     "output_type": "execute_result"
    },
    {
     "data": {
      "image/png": "[encoded data removed]",
      "text/plain": [
       "<matplotlib.figure.Figure at 0x1d360ff47b8>"
      ]
     },
     "metadata": {},
     "output_type": "display_data"
    }
   ],
   "source": [
    "ax = sns.heatmap(mperc.T, square=True, annot=True, cmap=\"YlGnBu\", cbar=False\n",
    "            , xticklabels=digits.target_names\n",
    "            , yticklabels=digits.target_names)\n",
    "\n",
    "ax.set(xlabel='True Label')\n",
    "ax.set(ylabel='Predicted Label')"
   ]
  },
  {
   "cell_type": "code",
   "execution_count": null,
   "metadata": {},
   "outputs": [],
   "source": []
  }
 ],
 "metadata": {
  "kernelspec": {
   "display_name": "Python 3",
   "language": "python",
   "name": "python3"
  },
  "language_info": {
   "codemirror_mode": {
    "name": "ipython",
    "version": 3
   },
   "file_extension": ".py",
   "mimetype": "text/x-python",
   "name": "python",
   "nbconvert_exporter": "python",
   "pygments_lexer": "ipython3",
   "version": "3.6.4"
  }
 },
 "nbformat": 4,
 "nbformat_minor": 2
}
